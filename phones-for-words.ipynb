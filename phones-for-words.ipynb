{
 "cells": [
  {
   "cell_type": "code",
   "execution_count": 8,
   "id": "99723cee",
   "metadata": {},
   "outputs": [],
   "source": [
    "# gentle align.py script expects the following arguments:\n",
    "# [audio file] [transcript text file]\n",
    "# and I want to get the output as a .json file, so I add the arguments:\n",
    "# -o [output filename]\n",
    "\n",
    "# here I'm getting phonemes for individual words. align.py expects\n",
    "# the transcript as a .txt file, so I create a temporary file whose contents\n",
    "# is the word, derived from the audio file name.\n",
    "\n",
    "# to use as written -- this notebook needs to be in same dir as align.py\n",
    "\n",
    "import os\n",
    "import tempfile\n",
    "\n",
    "def get_phones(dir_audio, dir_output):\n",
    "# sort directory alphabetically and ignore hidden directory structure file\n",
    "    list_of_files = sorted((f for f in os.listdir(dir_audio) if not f.startswith(\".\")), key=str.lower)\n",
    "\n",
    "    for file_name in list_of_files:\n",
    "\n",
    "        # strip everything after the word in the file name for content of temporary file\n",
    "        sep1 = '-'\n",
    "        stripped1 = file_name.split(sep1, 1)[0]\n",
    "    \n",
    "        # strip \".wav\" from the file name for name of .json file\n",
    "        sep2 = '.'\n",
    "        stripped2 = file_name.split(sep2, 1)[0]\n",
    "\n",
    "        # make a temporary file with the word to be aligned as the content, read the file\n",
    "        with tempfile.NamedTemporaryFile('w+t', suffix='.txt') as fp:    \n",
    "            fp.write(stripped1)\n",
    "            fp.seek(0)\n",
    "        \n",
    "            print(file_name)\n",
    "\n",
    "            # run gentle forced aligner\n",
    "            os.system('python3 align.py ' f'{dir_audio}{file_name} {fp.name} -o {dir_output}{stripped2}.json')\n",
    "        \n"
   ]
  },
  {
   "cell_type": "code",
   "execution_count": 9,
   "id": "4916ce5b",
   "metadata": {},
   "outputs": [],
   "source": [
    "# Call function to get a phone file for each word.\n",
    "# First argument is directory containing the audio files to be aligned\n",
    "# Second argument is target directory for json files containing phoneme info\n",
    "\n",
    "output = get_phones('/Users/iandouglas-moore/gentle-Final/temp-test/', '/Users/iandouglas-moore/gentle-Final/phones/')\n",
    "\n"
   ]
  }
 ],
 "metadata": {
  "kernelspec": {
   "display_name": "Python 3 (ipykernel)",
   "language": "python",
   "name": "python3"
  },
  "language_info": {
   "codemirror_mode": {
    "name": "ipython",
    "version": 3
   },
   "file_extension": ".py",
   "mimetype": "text/x-python",
   "name": "python",
   "nbconvert_exporter": "python",
   "pygments_lexer": "ipython3",
   "version": "3.9.7"
  }
 },
 "nbformat": 4,
 "nbformat_minor": 5
}
