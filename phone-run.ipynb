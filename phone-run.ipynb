{
 "cells": [
  {
   "cell_type": "code",
   "execution_count": 13,
   "id": "fcd8d895",
   "metadata": {},
   "outputs": [
    {
     "name": "stdout",
     "output_type": "stream",
     "text": [
      "./temp-test/ down-a.wav\n"
     ]
    },
    {
     "name": "stderr",
     "output_type": "stream",
     "text": [
      "INFO:root:converting audio to 8K sampled wav\n",
      "INFO:root:starting alignment\n",
      "INFO:root:1/1\n",
      "INFO:root:0 unaligned words (of 1)\n",
      "INFO:root:after 2nd pass: 0 unaligned words (of 1)\n",
      "INFO:root:output written to ./phones/down-a.json\n",
      "INFO:root:converting audio to 8K sampled wav\n",
      "INFO:root:starting alignment\n"
     ]
    },
    {
     "name": "stdout",
     "output_type": "stream",
     "text": [
      "./temp-test/ down-i.wav\n"
     ]
    },
    {
     "name": "stderr",
     "output_type": "stream",
     "text": [
      "INFO:root:1/1\n",
      "INFO:root:0 unaligned words (of 1)\n",
      "INFO:root:after 2nd pass: 0 unaligned words (of 1)\n",
      "INFO:root:output written to ./phones/down-i.json\n",
      "INFO:root:converting audio to 8K sampled wav\n",
      "INFO:root:starting alignment\n"
     ]
    },
    {
     "name": "stdout",
     "output_type": "stream",
     "text": [
      "./temp-test/ even-a.wav\n"
     ]
    },
    {
     "name": "stderr",
     "output_type": "stream",
     "text": [
      "INFO:root:1/1\n",
      "INFO:root:0 unaligned words (of 1)\n",
      "INFO:root:after 2nd pass: 0 unaligned words (of 1)\n",
      "INFO:root:output written to ./phones/even-a.json\n",
      "INFO:root:converting audio to 8K sampled wav\n",
      "INFO:root:starting alignment\n"
     ]
    },
    {
     "name": "stdout",
     "output_type": "stream",
     "text": [
      "./temp-test/ even-i.wav\n"
     ]
    },
    {
     "name": "stderr",
     "output_type": "stream",
     "text": [
      "INFO:root:1/1\n",
      "INFO:root:0 unaligned words (of 1)\n",
      "INFO:root:after 2nd pass: 0 unaligned words (of 1)\n",
      "INFO:root:output written to ./phones/even-i.json\n",
      "INFO:root:converting audio to 8K sampled wav\n",
      "INFO:root:starting alignment\n"
     ]
    },
    {
     "name": "stdout",
     "output_type": "stream",
     "text": [
      "./temp-test/ man-a.wav\n"
     ]
    },
    {
     "name": "stderr",
     "output_type": "stream",
     "text": [
      "INFO:root:1/1\n",
      "INFO:root:0 unaligned words (of 1)\n",
      "INFO:root:after 2nd pass: 0 unaligned words (of 1)\n",
      "INFO:root:output written to ./phones/man-a.json\n",
      "INFO:root:converting audio to 8K sampled wav\n",
      "INFO:root:starting alignment\n"
     ]
    },
    {
     "name": "stdout",
     "output_type": "stream",
     "text": [
      "./temp-test/ man-i.wav\n"
     ]
    },
    {
     "name": "stderr",
     "output_type": "stream",
     "text": [
      "INFO:root:1/1\n",
      "INFO:root:0 unaligned words (of 1)\n",
      "INFO:root:after 2nd pass: 0 unaligned words (of 1)\n",
      "INFO:root:output written to ./phones/man-i.json\n",
      "INFO:root:converting audio to 8K sampled wav\n",
      "INFO:root:starting alignment\n"
     ]
    },
    {
     "name": "stdout",
     "output_type": "stream",
     "text": [
      "./temp-test/ much-a.wav\n"
     ]
    },
    {
     "name": "stderr",
     "output_type": "stream",
     "text": [
      "INFO:root:1/1\n",
      "INFO:root:0 unaligned words (of 1)\n",
      "INFO:root:after 2nd pass: 0 unaligned words (of 1)\n",
      "INFO:root:output written to ./phones/much-a.json\n",
      "INFO:root:converting audio to 8K sampled wav\n",
      "INFO:root:starting alignment\n"
     ]
    },
    {
     "name": "stdout",
     "output_type": "stream",
     "text": [
      "./temp-test/ much-i.wav\n"
     ]
    },
    {
     "name": "stderr",
     "output_type": "stream",
     "text": [
      "INFO:root:1/1\n",
      "INFO:root:0 unaligned words (of 1)\n",
      "INFO:root:after 2nd pass: 0 unaligned words (of 1)\n",
      "INFO:root:output written to ./phones/much-i.json\n",
      "INFO:root:converting audio to 8K sampled wav\n",
      "INFO:root:starting alignment\n"
     ]
    },
    {
     "name": "stdout",
     "output_type": "stream",
     "text": [
      "./temp-test/ said-a.wav\n"
     ]
    },
    {
     "name": "stderr",
     "output_type": "stream",
     "text": [
      "INFO:root:1/1\n",
      "INFO:root:0 unaligned words (of 1)\n",
      "INFO:root:after 2nd pass: 0 unaligned words (of 1)\n",
      "INFO:root:output written to ./phones/said-a.json\n"
     ]
    },
    {
     "name": "stdout",
     "output_type": "stream",
     "text": [
      "./temp-test/ said-i.wav\n"
     ]
    },
    {
     "name": "stderr",
     "output_type": "stream",
     "text": [
      "INFO:root:converting audio to 8K sampled wav\n",
      "INFO:root:starting alignment\n",
      "INFO:root:1/1\n",
      "INFO:root:0 unaligned words (of 1)\n",
      "INFO:root:after 2nd pass: 0 unaligned words (of 1)\n",
      "INFO:root:output written to ./phones/said-i.json\n",
      "INFO:root:converting audio to 8K sampled wav\n",
      "INFO:root:starting alignment\n"
     ]
    },
    {
     "name": "stdout",
     "output_type": "stream",
     "text": [
      "./temp-test/ should-a.wav\n"
     ]
    },
    {
     "name": "stderr",
     "output_type": "stream",
     "text": [
      "INFO:root:1/1\n",
      "INFO:root:0 unaligned words (of 1)\n",
      "INFO:root:after 2nd pass: 0 unaligned words (of 1)\n",
      "INFO:root:output written to ./phones/should-a.json\n",
      "INFO:root:converting audio to 8K sampled wav\n",
      "INFO:root:starting alignment\n"
     ]
    },
    {
     "name": "stdout",
     "output_type": "stream",
     "text": [
      "./temp-test/ should-i.wav\n"
     ]
    },
    {
     "name": "stderr",
     "output_type": "stream",
     "text": [
      "INFO:root:1/1\n",
      "INFO:root:0 unaligned words (of 1)\n",
      "INFO:root:after 2nd pass: 0 unaligned words (of 1)\n",
      "INFO:root:output written to ./phones/should-i.json\n",
      "INFO:root:converting audio to 8K sampled wav\n",
      "INFO:root:starting alignment\n"
     ]
    },
    {
     "name": "stdout",
     "output_type": "stream",
     "text": [
      "./temp-test/ theres-a.wav\n"
     ]
    },
    {
     "name": "stderr",
     "output_type": "stream",
     "text": [
      "INFO:root:1/1\n",
      "INFO:root:0 unaligned words (of 1)\n",
      "INFO:root:after 2nd pass: 0 unaligned words (of 1)\n",
      "INFO:root:output written to ./phones/theres-a.json\n",
      "INFO:root:converting audio to 8K sampled wav\n",
      "INFO:root:starting alignment\n"
     ]
    },
    {
     "name": "stdout",
     "output_type": "stream",
     "text": [
      "./temp-test/ theres-i.wav\n"
     ]
    },
    {
     "name": "stderr",
     "output_type": "stream",
     "text": [
      "INFO:root:1/1\n",
      "INFO:root:0 unaligned words (of 1)\n",
      "INFO:root:after 2nd pass: 0 unaligned words (of 1)\n",
      "INFO:root:output written to ./phones/theres-i.json\n",
      "INFO:root:converting audio to 8K sampled wav\n",
      "INFO:root:starting alignment\n"
     ]
    },
    {
     "name": "stdout",
     "output_type": "stream",
     "text": [
      "./temp-test/ very-a.wav\n"
     ]
    },
    {
     "name": "stderr",
     "output_type": "stream",
     "text": [
      "INFO:root:1/1\n",
      "INFO:root:0 unaligned words (of 1)\n",
      "INFO:root:after 2nd pass: 0 unaligned words (of 1)\n",
      "INFO:root:output written to ./phones/very-a.json\n",
      "INFO:root:converting audio to 8K sampled wav\n",
      "INFO:root:starting alignment\n"
     ]
    },
    {
     "name": "stdout",
     "output_type": "stream",
     "text": [
      "./temp-test/ very-i.wav\n"
     ]
    },
    {
     "name": "stderr",
     "output_type": "stream",
     "text": [
      "INFO:root:1/1\n",
      "INFO:root:0 unaligned words (of 1)\n",
      "INFO:root:after 2nd pass: 0 unaligned words (of 1)\n",
      "INFO:root:output written to ./phones/very-i.json\n"
     ]
    }
   ],
   "source": [
    "# gentle align.py script expects the following arguments:\n",
    "# [audio file] [transcript text file]\n",
    "# and I want to get the output as a .json file, so I add the arguments:\n",
    "# -o [output filename]\n",
    "\n",
    "# here I'm getting phonemes for individual words. align.py expects\n",
    "# the transcript as a .txt file, so I create a temporary file whose contents\n",
    "# is the word, derived from the audio file name.\n",
    "\n",
    "# to use as written -- this notebook needs to be in same dir as align.py\n",
    "\n",
    "import os\n",
    "import tempfile\n",
    "\n",
    "# folder of audio files to be aligned\n",
    "dir_audio = './temp-test/'\n",
    "\n",
    "# destination folder for output files\n",
    "dir_output = './phones/'\n",
    "\n",
    "# sort directory alphabetically and ignore hidden directory structure file\n",
    "list_of_files = sorted((f for f in os.listdir(dir_audio) if not f.startswith(\".\")), key=str.lower)\n",
    "\n",
    "for file_name in list_of_files:\n",
    "\n",
    "    # strip everything after the word in the file name for content of temporary file\n",
    "    sep1 = '-'\n",
    "    stripped1 = file_name.split(sep1, 1)[0]\n",
    "    \n",
    "    # strip \".wav\" from the file name for name of .json file\n",
    "    sep2 = '.'\n",
    "    stripped2 = file_name.split(sep2, 1)[0]\n",
    "\n",
    "    # make a temporary file with the word to be aligned as the content, read the file\n",
    "    with tempfile.NamedTemporaryFile('w+t', suffix='.txt') as fp:    \n",
    "        fp.write(stripped1)\n",
    "        fp.seek(0)\n",
    "        \n",
    "        print(directory,file_name)\n",
    "        # run command line code in format expected by align.py\n",
    "        os.system('python3 align.py ' f'{dir_audio}{file_name} {fp.name} -o {dir_output}{stripped2}.json')\n",
    "        \n"
   ]
  },
  {
   "cell_type": "code",
   "execution_count": null,
   "id": "99723cee",
   "metadata": {},
   "outputs": [],
   "source": []
  }
 ],
 "metadata": {
  "kernelspec": {
   "display_name": "Python 3 (ipykernel)",
   "language": "python",
   "name": "python3"
  },
  "language_info": {
   "codemirror_mode": {
    "name": "ipython",
    "version": 3
   },
   "file_extension": ".py",
   "mimetype": "text/x-python",
   "name": "python",
   "nbconvert_exporter": "python",
   "pygments_lexer": "ipython3",
   "version": "3.9.7"
  }
 },
 "nbformat": 4,
 "nbformat_minor": 5
}
