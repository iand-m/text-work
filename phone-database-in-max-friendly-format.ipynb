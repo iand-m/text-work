{
 "cells": [
  {
   "cell_type": "code",
   "execution_count": 3,
   "id": "c0edc325",
   "metadata": {},
   "outputs": [],
   "source": [
    "import json\n",
    "import csv\n",
    "import os"
   ]
  },
  {
   "cell_type": "code",
   "execution_count": 24,
   "id": "41202675",
   "metadata": {},
   "outputs": [
    {
     "name": "stdout",
     "output_type": "stream",
     "text": [
      "{'Phone': 'Index', 'aa': '1', 'ae': '2', 'ah': '3', 'ao': '4', 'aw': '5', 'ay': '6', 'b': '7', 'ch': '8', 'd': '9', 'dh': '10', 'eh': '11', 'er': '12', 'ey': '13', 'f': '14', 'g': '15', 'hh': '16', 'ih': '17', 'iy': '18', 'jh': '19', 'k': '20', 'l': '21', 'm': '22', 'n': '23', 'ng': '24', 'ow': '25', 'oy': '26', 'p': '27', 'r': '28', 's': '29', 'sh': '30', 't': '31', 'th': '32', 'uh': '33', 'uw': '34', 'v': '35', 'w': '36', 'y': '37', 'z': '38', 'zh': '39'}\n"
     ]
    }
   ],
   "source": [
    "#load list of phones with number values as dictionary\n",
    "\n",
    "phone_dict = 'phone-dict.csv'\n",
    "\n",
    "with open(phone_dict, mode='r') as inp:\n",
    "    reader = csv.reader(inp)\n",
    "    lookup_dict = {row[0]:row[1] for row in reader}\n",
    "\n",
    "print(lookup_dict)\n"
   ]
  },
  {
   "cell_type": "code",
   "execution_count": 20,
   "id": "834df84b",
   "metadata": {},
   "outputs": [
    {
     "name": "stdout",
     "output_type": "stream",
     "text": [
      "['0', '0']\n"
     ]
    }
   ],
   "source": [
    "#function to find phones in a json file and convert them to the number in the dictionary\n",
    "\n",
    "def phone_to_num(file):\n",
    "    with open(file) as read_file:\n",
    "        \n",
    "        data = json.load(read_file)\n",
    "        \n",
    "        phone_to_num.phones = []\n",
    "        \n",
    "        # for words that were not successfully given phoneme data by gentle, we give an arbitrary\n",
    "        # value of ['0', '0'] for the first and last phonemes. This avoids errors and means that\n",
    "        # the word is still accessible in some way in the Max patch.\n",
    "        test_case = data['words'][0]['case']\n",
    "        not_found = 'not-found-in-audio'\n",
    "            \n",
    "        if not_found in test_case:\n",
    "            phone_to_num.phones = ['0', '0']\n",
    "    \n",
    "        else:\n",
    "            for i in data['words'][0]['phones']:\n",
    "                j = i.get('phone')\n",
    "                \n",
    "                # \"_S\" seems to be another error in gentle along the lines of 'not-found-in-audio'\n",
    "                # so we treat it the same way\n",
    "                if \"_S\" in j:\n",
    "                    phone_to_num.phones = ['0', '0']\n",
    "                    \n",
    "                # Currently we only take the first and last phoneme and ignore the interior ones,\n",
    "                # which are tagged \"_I\"\n",
    "                elif \"_I\" not in j:\n",
    "                    \n",
    "                    # remove the \"_B\" or \"_E\" tag before comparing to dictionary\n",
    "                    sep1 = '_'\n",
    "                    j = j.split(sep1, 1)[0]\n",
    "        \n",
    "                    # Look phoneme up in dictionary, replace with number value\n",
    "                    k = \" \".join(lookup_dict.get(ele, ele) for ele in j.split())\n",
    "                    \n",
    "                    # Add number to phoneme list\n",
    "                    phone_to_num.phones.append(k)\n",
    "            \n",
    "\n",
    "output = phone_to_num('/Users/iandouglas-moore/church-text/phone-jsons/ian-1-1/https-i-1.json')\n",
    "print(phone_to_num.phones)"
   ]
  },
  {
   "cell_type": "code",
   "execution_count": 6,
   "id": "6bf43d58",
   "metadata": {},
   "outputs": [],
   "source": [
    "# This function, borrowed from https://thispointer.com/python-three-ways-to-check-if-a-file-is-empty/ ,\n",
    "# tests if the phone database file is empty so the make_phone_coll function knows where to write data.\n",
    "\n",
    "def is_file_empty(file_path):\n",
    "    return os.path.exists(file_path) and os.stat(file_path).st_size == 0\n",
    "    "
   ]
  },
  {
   "cell_type": "code",
   "execution_count": 7,
   "id": "9bb33f73",
   "metadata": {},
   "outputs": [
    {
     "name": "stdout",
     "output_type": "stream",
     "text": [
      "File is not empty\n"
     ]
    }
   ],
   "source": [
    "# To test the function / file before running the whole thing.\n",
    "\n",
    "file_path = '/Users/iandouglas-moore/church-text/new-phone/phone-lists/phone-coll-new.txt'\n",
    "is_empty = is_file_empty(file_path)\n",
    "\n",
    "if is_empty:\n",
    "    print('File is empty')\n",
    "else:\n",
    "    print('File is not empty')"
   ]
  },
  {
   "cell_type": "code",
   "execution_count": 7,
   "id": "e81802c7",
   "metadata": {},
   "outputs": [],
   "source": [
    "# Opens a directory of json files with phone info, gets a list of that info for each file,\n",
    "# and writes the list to a text file in a way that my Max patch can read.\n",
    "# Output file must exist as a .txt file, but it can be empty.\n",
    "\n",
    "def make_phone_coll(phones_json_dir, phone_list):\n",
    "    \n",
    "    # sort directory alphabetically and ignore directory structure file\n",
    "    phones_json = sorted((f for f in os.listdir(phones_json_dir) if not f.startswith(\".\")))\n",
    "    \n",
    "    with open(phone_list, 'r+') as file:\n",
    "        fieldnames = ['index', 'phones']\n",
    "        \n",
    "        csvreader = csv.DictReader(file, delimiter=\",\", quotechar='\"', fieldnames = fieldnames)\n",
    "        csvwriter = csv.DictWriter(file, delimiter=\",\", quotechar='\"', fieldnames = fieldnames)\n",
    "        csvdata = list(csvreader)\n",
    "     \n",
    "        # if file is empty, write to first line. If not, start writing after last line\n",
    "        is_empty = is_file_empty(phone_list)\n",
    "        \n",
    "        # Max patch needs an index (starting from 1) so that each line refers to a specific buffer\n",
    "        # If file is empty, this writes the first index as '1'. If it already contains data,\n",
    "        # it writes the first new index as last index value + 1.\n",
    "        linenum = 1 if is_empty else int(csvdata[-1]['index'])+1\n",
    "\n",
    "        # Iterates through directory of json files, writing into database file in this format:\n",
    "        # [index number], 0 [first phone] [last phone];\n",
    "        # The '0' is because the Max patch needs a time value for the data '0' indicates start of file\n",
    "        for j in range(len(phones_json)):\n",
    "            \n",
    "            new_file = phones_json_dir + phones_json[j]\n",
    "            output = phone_to_num(new_file)\n",
    "            \n",
    "\n",
    "            csvwriter.writerow({'index': linenum, 'phones': ' 0 {} {};'.format(phone_to_num.phones[0],phone_to_num.phones[1])})\n",
    "            \n",
    "            linenum = linenum + 1\n"
   ]
  },
  {
   "cell_type": "code",
   "execution_count": 16,
   "id": "5caac11f",
   "metadata": {},
   "outputs": [],
   "source": [
    "# call make_phone_coll\n",
    "# 1st arg -- directory of json files giving phoneme information\n",
    "# 2nd arg -- file to put compiled phoneme info into. file must already exist as .txt, but can be empty\n",
    "\n",
    "# output = make_phone_coll('/Users/iandouglas-moore/church-text/phone-jsons/aaron-1-1_16bit/', '/Users/iandouglas-moore/church-text/new-phone/phone-lists/phone-coll-new.txt')\n",
    "\n",
    "# output = make_phone_coll('/Users/iandouglas-moore/church-text/phone-jsons/ian-1-1/', '/Users/iandouglas-moore/church-text/new-phone/phone-lists/phone-coll-new.txt')\n",
    "\n"
   ]
  },
  {
   "cell_type": "code",
   "execution_count": null,
   "id": "9cf99109",
   "metadata": {},
   "outputs": [],
   "source": []
  }
 ],
 "metadata": {
  "kernelspec": {
   "display_name": "Python 3 (ipykernel)",
   "language": "python",
   "name": "python3"
  },
  "language_info": {
   "codemirror_mode": {
    "name": "ipython",
    "version": 3
   },
   "file_extension": ".py",
   "mimetype": "text/x-python",
   "name": "python",
   "nbconvert_exporter": "python",
   "pygments_lexer": "ipython3",
   "version": "3.9.7"
  }
 },
 "nbformat": 4,
 "nbformat_minor": 5
}
